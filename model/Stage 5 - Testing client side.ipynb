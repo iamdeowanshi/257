{
 "cells": [
  {
   "cell_type": "code",
   "execution_count": 1,
   "metadata": {},
   "outputs": [],
   "source": [
    "import pandas as pd\n",
    "import numpy as np\n",
    "import glob\n",
    "import pickle\n",
    "import datetime\n",
    "import requests\n",
    "import json"
   ]
  },
  {
   "cell_type": "code",
   "execution_count": 2,
   "metadata": {},
   "outputs": [],
   "source": [
    "def get_file_list(folder_name, prefix=''):\n",
    "    return glob.glob(folder_name + '/*' + prefix + '.data')"
   ]
  },
  {
   "cell_type": "code",
   "execution_count": 3,
   "metadata": {},
   "outputs": [],
   "source": [
    "def load_file(file_name):\n",
    "    with open(file_name, 'rb') as f:\n",
    "        return pickle.load(f)"
   ]
  },
  {
   "cell_type": "code",
   "execution_count": 4,
   "metadata": {},
   "outputs": [],
   "source": [
    "def init_data(clfs_folder, cols_folder, fl_info_file, delays_file, avg_delays_file):\n",
    "    flight_info = load_file(fl_info_file)\n",
    "    delays = load_file(delays_file)\n",
    "    avg_delays = load_file(avg_delays_file)\n",
    "    files_list = get_file_list(clfs_folder)\n",
    "    clfs = {}\n",
    "    for file in files_list:\n",
    "        airport = file.replace(clfs_folder + '/', '').replace('.data', '')\n",
    "        clfs[airport] = {'clf': load_file(file), 'cols': load_file(cols_folder + '/' + airport + '.data')}\n",
    "    return {'clfs': clfs, 'fl_info': flight_info, 'delays': delays, 'avg_delays': avg_delays}"
   ]
  },
  {
   "cell_type": "code",
   "execution_count": 5,
   "metadata": {},
   "outputs": [],
   "source": [
    "def get_series_value(series):\n",
    "    return series.values[0]"
   ]
  },
  {
   "cell_type": "code",
   "execution_count": 6,
   "metadata": {},
   "outputs": [],
   "source": [
    "def get_wind_speed_for_city(city_name, api_key):\n",
    "    try:\n",
    "        api_url = 'http://api.openweathermap.org/data/2.5/weather'\n",
    "        r = requests.get(url=api_url, params=dict(q=city_name, APPID=api_key))\n",
    "        result_json = json.loads(r.text)\n",
    "        return result_json['wind']['speed'] * 10\n",
    "    except Exception as e:\n",
    "        print(e)\n",
    "        return 0"
   ]
  },
  {
   "cell_type": "code",
   "execution_count": 45,
   "metadata": {},
   "outputs": [],
   "source": [
    "def get_features(data, weather_api_key, origin, dest, carrier, flight, date):\n",
    "    fl_info = data['fl_info'][(data['fl_info']['fl_num'] == flight) & (data['fl_info']['carrier'] == carrier) & (data['fl_info']['origin'] == origin)]\n",
    "    df = pd.DataFrame(columns=data['clfs'][origin]['cols'])\n",
    "    df = df.append({'average_wind_speed': get_wind_speed_for_city(get_series_value(fl_info['origin_city_name']), weather_api_key), \n",
    "                    'crs_dep_time': get_series_value(fl_info['crs_dep_time']), \n",
    "                    'crs_elapsed_time': get_series_value(fl_info['crs_elapsed_time']),\n",
    "                    'day_of_month': date.day, \n",
    "                    'day_of_week': date.weekday(),\n",
    "                    'month': date.month, \n",
    "                    'quarter': date.month // 4,\n",
    "                    'previous_flight_delay': 0,\n",
    "                    'airline_delay_index': get_series_value(data['delays'][data['delays']['Carrier'] == carrier]['Delay index']),\n",
    "                    'airline_avg_delay': get_series_value(data['avg_delays'][data['avg_delays']['carrier'] == carrier]['carrier_delay']),\n",
    "                    'dest_' + dest: 1, \n",
    "                    'day_of_year': int(date.strftime(\"%j\"))}, ignore_index=True)\n",
    "    df = df.drop('status', axis=1)\n",
    "    df = df.fillna(0)\n",
    "    return df"
   ]
  },
  {
   "cell_type": "code",
   "execution_count": 46,
   "metadata": {},
   "outputs": [],
   "source": [
    "info_data = init_data('../data/clfs', '../data/values_dicts', '../data/flight_info.data', '../data/delays.data', '../data/avg_delays.data')"
   ]
  },
  {
   "cell_type": "code",
   "execution_count": 47,
   "metadata": {},
   "outputs": [],
   "source": [
    "dt = datetime.datetime(1999, 8, 28)"
   ]
  },
  {
   "cell_type": "code",
   "execution_count": 48,
   "metadata": {},
   "outputs": [],
   "source": [
    "test_sample = get_features(info_data, '', 'ABR', 'MSP', 'OO', 7363, dt)"
   ]
  },
  {
   "cell_type": "code",
   "execution_count": 49,
   "metadata": {},
   "outputs": [
    {
     "data": {
      "text/plain": [
       "Index(['average_wind_speed', 'crs_dep_time', 'crs_elapsed_time',\n",
       "       'day_of_month', 'day_of_week', 'month', 'quarter',\n",
       "       'previous_flight_delay', 'airline_delay_index', 'airline_avg_delay',\n",
       "       'dest_MSP', 'day_of_year', 'weekend'],\n",
       "      dtype='object')"
      ]
     },
     "execution_count": 49,
     "metadata": {},
     "output_type": "execute_result"
    }
   ],
   "source": [
    "test_sample.columns"
   ]
  },
  {
   "cell_type": "code",
   "execution_count": 50,
   "metadata": {},
   "outputs": [
    {
     "data": {
      "text/plain": [
       "{'clf': RandomForestClassifier(bootstrap=False, class_weight='balanced',\n",
       "             criterion='entropy', max_depth=64, max_features=7,\n",
       "             max_leaf_nodes=None, min_impurity_decrease=0.0,\n",
       "             min_impurity_split=None, min_samples_leaf=1,\n",
       "             min_samples_split=2, min_weight_fraction_leaf=0.0,\n",
       "             n_estimators=40, n_jobs=1, oob_score=False,\n",
       "             random_state=100412, verbose=0, warm_start=False),\n",
       " 'cols': Index(['average_wind_speed', 'crs_dep_time', 'crs_elapsed_time',\n",
       "        'day_of_month', 'day_of_week', 'month', 'quarter', 'status',\n",
       "        'previous_flight_delay', 'airline_delay_index', 'airline_avg_delay',\n",
       "        'dest_MSP', 'day_of_year', 'weekend'],\n",
       "       dtype='object')}"
      ]
     },
     "execution_count": 50,
     "metadata": {},
     "output_type": "execute_result"
    }
   ],
   "source": [
    "info_data['clfs']['ABR']"
   ]
  },
  {
   "cell_type": "code",
   "execution_count": 51,
   "metadata": {},
   "outputs": [
    {
     "data": {
      "text/plain": [
       "array(['no_delay'], dtype=object)"
      ]
     },
     "execution_count": 51,
     "metadata": {},
     "output_type": "execute_result"
    }
   ],
   "source": [
    "info_data['clfs']['ABR']['clf'].predict(test_sample)"
   ]
  },
  {
   "cell_type": "code",
   "execution_count": null,
   "metadata": {},
   "outputs": [],
   "source": []
  }
 ],
 "metadata": {
  "kernelspec": {
   "display_name": "Python 2",
   "language": "python",
   "name": "python2"
  },
  "language_info": {
   "codemirror_mode": {
    "name": "ipython",
    "version": 2
   },
   "file_extension": ".py",
   "mimetype": "text/x-python",
   "name": "python",
   "nbconvert_exporter": "python",
   "pygments_lexer": "ipython2",
   "version": "2.7.15"
  }
 },
 "nbformat": 4,
 "nbformat_minor": 2
}
